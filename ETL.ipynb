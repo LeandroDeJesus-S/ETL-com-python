{
 "cells": [
  {
   "cell_type": "markdown",
   "id": "18e2c6bd",
   "metadata": {},
   "source": [
    "Você pode encontrar os mesmos dados [aqui](https://www.kaggle.com/datasets/guillemservera/global-stock-indices-historical-data)"
   ]
  },
  {
   "cell_type": "code",
   "execution_count": 59,
   "id": "c3255306",
   "metadata": {},
   "outputs": [],
   "source": [
    "import pandas as pd  # !pip install pandas"
   ]
  },
  {
   "cell_type": "markdown",
   "id": "b919ab74",
   "metadata": {},
   "source": [
    "# Extract\n",
    "   - Para a parte de extração vamos pegar os dados de um arquivo csv contendo dados históricos da OHLC(Open-High-Low-Close Chart) com os principais índices globais de ações."
   ]
  },
  {
   "cell_type": "code",
   "execution_count": 60,
   "id": "cb7cfe00",
   "metadata": {
    "scrolled": false
   },
   "outputs": [
    {
     "name": "stdout",
     "output_type": "stream",
     "text": [
      "numero de registros (row/col): (283943, 6)\n"
     ]
    },
    {
     "data": {
      "text/html": [
       "<div>\n",
       "<style scoped>\n",
       "    .dataframe tbody tr th:only-of-type {\n",
       "        vertical-align: middle;\n",
       "    }\n",
       "\n",
       "    .dataframe tbody tr th {\n",
       "        vertical-align: top;\n",
       "    }\n",
       "\n",
       "    .dataframe thead th {\n",
       "        text-align: right;\n",
       "    }\n",
       "</style>\n",
       "<table border=\"1\" class=\"dataframe\">\n",
       "  <thead>\n",
       "    <tr style=\"text-align: right;\">\n",
       "      <th></th>\n",
       "      <th>open</th>\n",
       "      <th>high</th>\n",
       "      <th>low</th>\n",
       "      <th>close</th>\n",
       "      <th>volume</th>\n",
       "      <th>ticker</th>\n",
       "    </tr>\n",
       "    <tr>\n",
       "      <th>date</th>\n",
       "      <th></th>\n",
       "      <th></th>\n",
       "      <th></th>\n",
       "      <th></th>\n",
       "      <th></th>\n",
       "      <th></th>\n",
       "    </tr>\n",
       "  </thead>\n",
       "  <tbody>\n",
       "    <tr>\n",
       "      <th>1927-12-30</th>\n",
       "      <td>17.660000</td>\n",
       "      <td>17.660000</td>\n",
       "      <td>17.660000</td>\n",
       "      <td>17.660000</td>\n",
       "      <td>0.0</td>\n",
       "      <td>^GSPC</td>\n",
       "    </tr>\n",
       "    <tr>\n",
       "      <th>1928-01-03</th>\n",
       "      <td>17.760000</td>\n",
       "      <td>17.760000</td>\n",
       "      <td>17.760000</td>\n",
       "      <td>17.760000</td>\n",
       "      <td>0.0</td>\n",
       "      <td>^GSPC</td>\n",
       "    </tr>\n",
       "    <tr>\n",
       "      <th>1928-01-04</th>\n",
       "      <td>17.719999</td>\n",
       "      <td>17.719999</td>\n",
       "      <td>17.719999</td>\n",
       "      <td>17.719999</td>\n",
       "      <td>0.0</td>\n",
       "      <td>^GSPC</td>\n",
       "    </tr>\n",
       "    <tr>\n",
       "      <th>1928-01-05</th>\n",
       "      <td>17.549999</td>\n",
       "      <td>17.549999</td>\n",
       "      <td>17.549999</td>\n",
       "      <td>17.549999</td>\n",
       "      <td>0.0</td>\n",
       "      <td>^GSPC</td>\n",
       "    </tr>\n",
       "    <tr>\n",
       "      <th>1928-01-06</th>\n",
       "      <td>17.660000</td>\n",
       "      <td>17.660000</td>\n",
       "      <td>17.660000</td>\n",
       "      <td>17.660000</td>\n",
       "      <td>0.0</td>\n",
       "      <td>^GSPC</td>\n",
       "    </tr>\n",
       "  </tbody>\n",
       "</table>\n",
       "</div>"
      ],
      "text/plain": [
       "                 open       high        low      close  volume ticker\n",
       "date                                                                 \n",
       "1927-12-30  17.660000  17.660000  17.660000  17.660000     0.0  ^GSPC\n",
       "1928-01-03  17.760000  17.760000  17.760000  17.760000     0.0  ^GSPC\n",
       "1928-01-04  17.719999  17.719999  17.719999  17.719999     0.0  ^GSPC\n",
       "1928-01-05  17.549999  17.549999  17.549999  17.549999     0.0  ^GSPC\n",
       "1928-01-06  17.660000  17.660000  17.660000  17.660000     0.0  ^GSPC"
      ]
     },
     "execution_count": 60,
     "metadata": {},
     "output_type": "execute_result"
    }
   ],
   "source": [
    "df = pd.read_csv('all_indices_data.csv', parse_dates=['date'], index_col='date')\n",
    "print('numero de registros (row/col):', df.shape)\n",
    "df.head()"
   ]
  },
  {
   "cell_type": "markdown",
   "id": "168d6f8d",
   "metadata": {},
   "source": [
    "# Transform\n",
    "   - Como processo de transformação vamos ter como objetivo simplemete calcular a média de fechamento mensal de cada ação."
   ]
  },
  {
   "cell_type": "markdown",
   "id": "d79c6034",
   "metadata": {},
   "source": [
    "Antes de tudo vamos pegar nossos atributos de interesse"
   ]
  },
  {
   "cell_type": "code",
   "execution_count": 61,
   "id": "103feedc",
   "metadata": {},
   "outputs": [
    {
     "data": {
      "text/html": [
       "<div>\n",
       "<style scoped>\n",
       "    .dataframe tbody tr th:only-of-type {\n",
       "        vertical-align: middle;\n",
       "    }\n",
       "\n",
       "    .dataframe tbody tr th {\n",
       "        vertical-align: top;\n",
       "    }\n",
       "\n",
       "    .dataframe thead th {\n",
       "        text-align: right;\n",
       "    }\n",
       "</style>\n",
       "<table border=\"1\" class=\"dataframe\">\n",
       "  <thead>\n",
       "    <tr style=\"text-align: right;\">\n",
       "      <th></th>\n",
       "      <th>close</th>\n",
       "      <th>ticker</th>\n",
       "    </tr>\n",
       "    <tr>\n",
       "      <th>date</th>\n",
       "      <th></th>\n",
       "      <th></th>\n",
       "    </tr>\n",
       "  </thead>\n",
       "  <tbody>\n",
       "    <tr>\n",
       "      <th>1927-12-30</th>\n",
       "      <td>17.660000</td>\n",
       "      <td>^GSPC</td>\n",
       "    </tr>\n",
       "    <tr>\n",
       "      <th>1928-01-03</th>\n",
       "      <td>17.760000</td>\n",
       "      <td>^GSPC</td>\n",
       "    </tr>\n",
       "    <tr>\n",
       "      <th>1928-01-04</th>\n",
       "      <td>17.719999</td>\n",
       "      <td>^GSPC</td>\n",
       "    </tr>\n",
       "    <tr>\n",
       "      <th>1928-01-05</th>\n",
       "      <td>17.549999</td>\n",
       "      <td>^GSPC</td>\n",
       "    </tr>\n",
       "    <tr>\n",
       "      <th>1928-01-06</th>\n",
       "      <td>17.660000</td>\n",
       "      <td>^GSPC</td>\n",
       "    </tr>\n",
       "  </tbody>\n",
       "</table>\n",
       "</div>"
      ],
      "text/plain": [
       "                close ticker\n",
       "date                        \n",
       "1927-12-30  17.660000  ^GSPC\n",
       "1928-01-03  17.760000  ^GSPC\n",
       "1928-01-04  17.719999  ^GSPC\n",
       "1928-01-05  17.549999  ^GSPC\n",
       "1928-01-06  17.660000  ^GSPC"
      ]
     },
     "execution_count": 61,
     "metadata": {},
     "output_type": "execute_result"
    }
   ],
   "source": [
    "df = df[['close', 'ticker']].copy()\n",
    "df.head()"
   ]
  },
  {
   "cell_type": "markdown",
   "id": "6c416bff",
   "metadata": {},
   "source": [
    "Vamos fazer algumas verificações básicas como analisar se há valores faltantes e se os tipos de dados estão corretos"
   ]
  },
  {
   "cell_type": "code",
   "execution_count": 62,
   "id": "1b0d7e7f",
   "metadata": {},
   "outputs": [
    {
     "data": {
      "text/plain": [
       "close     0\n",
       "ticker    0\n",
       "dtype: int64"
      ]
     },
     "execution_count": 62,
     "metadata": {},
     "output_type": "execute_result"
    }
   ],
   "source": [
    "df.isna().sum()"
   ]
  },
  {
   "cell_type": "code",
   "execution_count": 63,
   "id": "8d1e8cbb",
   "metadata": {},
   "outputs": [
    {
     "data": {
      "text/plain": [
       "close     float64\n",
       "ticker     object\n",
       "dtype: object"
      ]
     },
     "execution_count": 63,
     "metadata": {},
     "output_type": "execute_result"
    }
   ],
   "source": [
    "df.dtypes"
   ]
  },
  {
   "cell_type": "markdown",
   "id": "20de2b23",
   "metadata": {},
   "source": [
    "Agora vamos agrupar por cada ação (ticker)"
   ]
  },
  {
   "cell_type": "code",
   "execution_count": 64,
   "id": "6caf5c85",
   "metadata": {},
   "outputs": [],
   "source": [
    "tickers = df.groupby(['ticker'])"
   ]
  },
  {
   "cell_type": "markdown",
   "id": "cb7be868",
   "metadata": {},
   "source": [
    "Agrupados os tickers, vamos agora organizar nossos registros de forma mensal para cada um deles."
   ]
  },
  {
   "cell_type": "code",
   "execution_count": 65,
   "id": "fff820e8",
   "metadata": {},
   "outputs": [],
   "source": [
    "monthly_data = tickers.resample('M')"
   ]
  },
  {
   "cell_type": "markdown",
   "id": "1fabb548",
   "metadata": {},
   "source": [
    "calculando a média de cada ticker"
   ]
  },
  {
   "cell_type": "code",
   "execution_count": 66,
   "id": "3495da72",
   "metadata": {
    "scrolled": true
   },
   "outputs": [
    {
     "data": {
      "text/html": [
       "<div>\n",
       "<style scoped>\n",
       "    .dataframe tbody tr th:only-of-type {\n",
       "        vertical-align: middle;\n",
       "    }\n",
       "\n",
       "    .dataframe tbody tr th {\n",
       "        vertical-align: top;\n",
       "    }\n",
       "\n",
       "    .dataframe thead th {\n",
       "        text-align: right;\n",
       "    }\n",
       "</style>\n",
       "<table border=\"1\" class=\"dataframe\">\n",
       "  <thead>\n",
       "    <tr style=\"text-align: right;\">\n",
       "      <th></th>\n",
       "      <th>ticker</th>\n",
       "      <th>date</th>\n",
       "      <th>close</th>\n",
       "    </tr>\n",
       "  </thead>\n",
       "  <tbody>\n",
       "    <tr>\n",
       "      <th>0</th>\n",
       "      <td>000001.SS</td>\n",
       "      <td>1997-07-31</td>\n",
       "      <td>1174.217041</td>\n",
       "    </tr>\n",
       "    <tr>\n",
       "      <th>1</th>\n",
       "      <td>000001.SS</td>\n",
       "      <td>1997-08-31</td>\n",
       "      <td>1184.083008</td>\n",
       "    </tr>\n",
       "    <tr>\n",
       "      <th>2</th>\n",
       "      <td>000001.SS</td>\n",
       "      <td>1997-09-30</td>\n",
       "      <td>1185.870483</td>\n",
       "    </tr>\n",
       "    <tr>\n",
       "      <th>3</th>\n",
       "      <td>000001.SS</td>\n",
       "      <td>1997-10-31</td>\n",
       "      <td>1174.104980</td>\n",
       "    </tr>\n",
       "    <tr>\n",
       "      <th>4</th>\n",
       "      <td>000001.SS</td>\n",
       "      <td>1997-11-30</td>\n",
       "      <td>1182.487976</td>\n",
       "    </tr>\n",
       "  </tbody>\n",
       "</table>\n",
       "</div>"
      ],
      "text/plain": [
       "      ticker       date        close\n",
       "0  000001.SS 1997-07-31  1174.217041\n",
       "1  000001.SS 1997-08-31  1184.083008\n",
       "2  000001.SS 1997-09-30  1185.870483\n",
       "3  000001.SS 1997-10-31  1174.104980\n",
       "4  000001.SS 1997-11-30  1182.487976"
      ]
     },
     "execution_count": 66,
     "metadata": {},
     "output_type": "execute_result"
    }
   ],
   "source": [
    "ticker_monthly_close_mean = monthly_data.median().reset_index()\n",
    "ticker_monthly_close_mean.head()"
   ]
  },
  {
   "cell_type": "markdown",
   "id": "c6f5bc77",
   "metadata": {},
   "source": [
    "# Load\n",
    "   - Por fim, na parte de Load, vamos passar os valores para um novo arquivo, relacionando cada ação."
   ]
  },
  {
   "cell_type": "code",
   "execution_count": 67,
   "id": "9b668b2e",
   "metadata": {},
   "outputs": [],
   "source": [
    "ticker_monthly_close_mean.to_csv('historico_de_media_de_fechamendo_de_indices.csv', index=False)"
   ]
  }
 ],
 "metadata": {
  "kernelspec": {
   "display_name": "Python 3 (ipykernel)",
   "language": "python",
   "name": "python3"
  },
  "language_info": {
   "codemirror_mode": {
    "name": "ipython",
    "version": 3
   },
   "file_extension": ".py",
   "mimetype": "text/x-python",
   "name": "python",
   "nbconvert_exporter": "python",
   "pygments_lexer": "ipython3",
   "version": "3.9.13"
  }
 },
 "nbformat": 4,
 "nbformat_minor": 5
}
